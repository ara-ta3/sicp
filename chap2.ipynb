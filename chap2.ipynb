{
 "cells": [
  {
   "cell_type": "markdown",
   "metadata": {},
   "source": [
    "# 2章 データによる抽象の構築"
   ]
  },
  {
   "cell_type": "code",
   "execution_count": 3,
   "metadata": {
    "collapsed": false
   },
   "outputs": [
    {
     "name": "stdout",
     "output_type": "stream",
     "text": [
      " #<undef>\r\n"
     ]
    }
   ],
   "source": [
    "(use gauche.test)"
   ]
  },
  {
   "cell_type": "code",
   "execution_count": 1,
   "metadata": {
    "collapsed": false
   },
   "outputs": [
    {
     "name": "stdout",
     "output_type": "stream",
     "text": [
      " linear-combination\r\n",
      " linear-combination\r\n",
      " add\r\n",
      " mul\r\n",
      " add-rat\r\n",
      " sub-rat\r\n",
      " mul-rat\r\n",
      " div-rat\r\n",
      " make-rat\r\n",
      " numer\r\n",
      " denom\r\n",
      " print-rat\r\n",
      " one-half\r\n",
      " \r\n",
      "1/2#<undef>\r\n",
      " make-rat\r\n"
     ]
    }
   ],
   "source": [
    "(define (linear-combination a b x y)\n",
    "  (+ (* a x) (* b y)))\n",
    "\n",
    "(define (linear-combination a b x y)\n",
    "  (add (mul a x) (mul b y)))\n",
    "\n",
    "(define (add +))\n",
    "(define (mul +))\n",
    "\n",
    "(define (add-rat x y)\n",
    "  (make-rat (+ (* (numer x) (denom y))\n",
    "               (* (numer y) (denom x)))\n",
    "            (* (denom x) (denom y))))\n",
    "\n",
    "(define (sub-rat x y)\n",
    "  (make-rat (- (* (numer x) (denom y))\n",
    "               (* (numer y) (denom x)))\n",
    "            (* (denom x) (denom y))))\n",
    "\n",
    "(define (mul-rat x y)\n",
    "  (make-rat (* (numer x) (numer y))\n",
    "            (* (denom x) (denom y))))\n",
    "\n",
    "(define (div-rat x y)\n",
    "  (make-rat (* (numer x) (denom y))\n",
    "            (* (denom x) (numer y))))\n",
    "\n",
    "(define (make-rat n d) (cons n d))\n",
    "\n",
    "(define (numer x) (car x))\n",
    "\n",
    "(define (denom x) (cdr x))\n",
    "\n",
    "(define (print-rat x)\n",
    "  (newline)\n",
    "  (display (numer x))\n",
    "  (display \"/\")\n",
    "  (display (denom x)))\n",
    "\n",
    "(define one-half (make-rat 1 2))\n",
    "\n",
    "(print-rat one-half)\n",
    "\n",
    "(define (make-rat n d)\n",
    "  (let ((g (gcd n d)))\n",
    "    (cons (/ n g) (/ d g))))"
   ]
  },
  {
   "cell_type": "code",
   "execution_count": 3,
   "metadata": {
    "collapsed": false
   },
   "outputs": [
    {
     "name": "stdout",
     "output_type": "stream",
     "text": [
      " cons\r\n",
      " car\r\n",
      " cdr\r\n"
     ]
    }
   ],
   "source": [
    "(define (cons x y)\n",
    "  (define (dispatch m)\n",
    "    (cond ((= m 0) x)\n",
    "          ((= m 1) y)\n",
    "          (else (error \"Argument not 0 or 1 --CONS\" m))))\n",
    "  dispatch)\n",
    "(define (car z) (z 0))\n",
    "(define (cdr z) (z 1))\n",
    "\n",
    "\n"
   ]
  },
  {
   "cell_type": "code",
   "execution_count": 4,
   "metadata": {
    "collapsed": false
   },
   "outputs": [
    {
     "name": "stdout",
     "output_type": "stream",
     "text": [
      " add-interval\r\n",
      " mul-interval\r\n",
      " div-interval\r\n"
     ]
    }
   ],
   "source": [
    "(define (add-interval x y)\n",
    "  (make-interval (+ (lower-bound x) (lower-bound y))\n",
    "                 (+ (upper-bound x) (upper-bound y))))\n",
    "\n",
    "(define (mul-interval x y)\n",
    "  (let ((p1 (* (lower-bound x) (lower-bound y)))\n",
    "        (p2 (* (lower-bound x) (lower-bound y)))\n",
    "        (p3 (* (upper-bound x) (upper-bound y)))\n",
    "        (p4 (* (upper-bound x) (upper-bound y))))\n",
    "    (make-interval (min p1 p2 p3 p4)\n",
    "                   (max p1 p2 p3 p4))))\n",
    "\n",
    "(define (div-interval x y)\n",
    "  (mul-interval x (make-interval (/ 1.0 (upper-bound y))\n",
    "                                 (/ 1.0 (lower-bound y)))))\n"
   ]
  },
  {
   "cell_type": "code",
   "execution_count": 6,
   "metadata": {
    "collapsed": false
   },
   "outputs": [
    {
     "name": "stdout",
     "output_type": "stream",
     "text": [
      " make-center-width\r\n",
      " center\r\n",
      " width\r\n",
      " par1\r\n",
      " par2\r\n"
     ]
    }
   ],
   "source": [
    "(define (make-center-width  c w)\n",
    "  (make-interval (- c w) (+ c w)))\n",
    "\n",
    "(define (center i)\n",
    "  (/ (+ (lower-bound i) (upper-bound i)) 2))\n",
    "\n",
    "(define (width i)\n",
    "  (/ (- (upper-bound i) (lower-bound i)) 2))\n",
    "\n",
    "(define (par1 r1 r2)\n",
    "  (div-interval (mul-interval r1 r2)\n",
    "                (add-interval r1 r2)))\n",
    "\n",
    "(define (par2 r1 r2)\n",
    "  (let ((one (make-interval 1 1)))\n",
    "    (div-interval one\n",
    "                  (add-interval (div-interval one r1)\n",
    "                                (div-interval one r2)))))\n",
    "\n"
   ]
  },
  {
   "cell_type": "code",
   "execution_count": 7,
   "metadata": {
    "collapsed": false
   },
   "outputs": [
    {
     "name": "stdout",
     "output_type": "stream",
     "text": [
      " list-ref\r\n",
      " squares\r\n",
      " length\r\n",
      " odds\r\n",
      " length\r\n",
      " append\r\n"
     ]
    }
   ],
   "source": [
    "(define (list-ref items n)\n",
    "       (if (= n 0)\n",
    "         (car items)\n",
    "         (list-ref (cdr items) (- n 1))))\n",
    "\n",
    "(define squares (list 1 4 9 16 25))\n",
    "\n",
    "(define (length items)\n",
    "  (if (null? items)\n",
    "    0\n",
    "    (+ 1 (length (cdr items)))))\n",
    "\n",
    "(define (odds 1 3 5 7))\n",
    "\n",
    "(define (length items)\n",
    "  (define (length-iter a count)\n",
    "    (if (null? a)\n",
    "      count\n",
    "      (length-iter (cdr a) (+ 1 count))))\n",
    "  (length-iter items 0))\n",
    "\n",
    "(define (append l1 l2)\n",
    "  (if (null? l1)\n",
    "    l2\n",
    "    (cons (car list1) (append (cdr l1) l2))))\n"
   ]
  },
  {
   "cell_type": "code",
   "execution_count": 8,
   "metadata": {
    "collapsed": false
   },
   "outputs": [
    {
     "name": "stdout",
     "output_type": "stream",
     "text": [
      " scale-list\r\n",
      " map\r\n",
      " scale-list\r\n"
     ]
    }
   ],
   "source": [
    "(define (scale-list items factor)\n",
    "  (if (null? items)\n",
    "    '()\n",
    "    (cons (* (car items) factor)\n",
    "          (scale-list (cdr items) factor))))\n",
    "\n",
    "(define (map proc items)\n",
    "  (if (null? items)\n",
    "    '()\n",
    "    (cons (proc (car items))\n",
    "          (map proc (cdr items)))))\n",
    "\n",
    "(define (scale-list items factor)\n",
    "  (map (lambda (x) (* x factor))\n",
    "       items))\n"
   ]
  },
  {
   "cell_type": "code",
   "execution_count": 9,
   "metadata": {
    "collapsed": false
   },
   "outputs": [
    {
     "name": "stdout",
     "output_type": "stream",
     "text": [
      " x\r\n",
      " count-leaves\r\n"
     ]
    }
   ],
   "source": [
    "(define x (cons (list 1 2) (list 3 4)))\n",
    "\n",
    "(define (count-leaves x)\n",
    "  (cond ((null? x) 0)\n",
    "        ((not (pair? x)) 1)\n",
    "        (else (+ (count-leaves (car x))\n",
    "                 (count-leaves (cdr x))))))\n",
    "\n"
   ]
  },
  {
   "cell_type": "code",
   "execution_count": 10,
   "metadata": {
    "collapsed": false
   },
   "outputs": [
    {
     "name": "stdout",
     "output_type": "stream",
     "text": [
      " scale-tree\r\n"
     ]
    }
   ],
   "source": [
    "(define (scale-tree tree factor)\n",
    "  (cond ((null? tree) '())\n",
    "        ((not (pair? tree)) (* tree factor))\n",
    "        (else (cons (scale-tree (car tree) factor)\n",
    "                    (scale-tree (cdr tree) factor)))))"
   ]
  },
  {
   "cell_type": "code",
   "execution_count": 11,
   "metadata": {
    "collapsed": false
   },
   "outputs": [
    {
     "name": "stdout",
     "output_type": "stream",
     "text": [
      " sum-odd-squares\r\n",
      " even-fibs\r\n"
     ]
    }
   ],
   "source": [
    "(define (sum-odd-squares tree)\n",
    "  (cond ((null? tree) 0)\n",
    "        ((not (pair? tree))\n",
    "         (if (odd? tree) (square tree) 0))\n",
    "        (else (+ (sum-odd-squares (car tree))\n",
    "                 (sum-odd-squares (cdr tree))))))\n",
    "\n",
    "(define (even-fibs n)\n",
    "  (define (next k)\n",
    "    (if (> k n)\n",
    "      '()\n",
    "      (let ((f (fib k)))\n",
    "        (if (even? f)\n",
    "          (cons f (next (+ k 1)))\n",
    "          (next (+ k 1))))))\n",
    "  (next 0))\n"
   ]
  },
  {
   "cell_type": "code",
   "execution_count": 4,
   "metadata": {
    "collapsed": false
   },
   "outputs": [
    {
     "name": "stdout",
     "output_type": "stream",
     "text": [
      " make-rat\r\n",
      " test 既約分数になること, expects (1 . 2) ==> ok\r\n",
      "#<undef>\r\n",
      " test マイナスになること, expects (-1 . 2) ==> ok\r\n",
      "#<undef>\r\n",
      " test 分母がマイナスでも分子がマイナスになること, expects (-1 . 2) ==> ok\r\n",
      "#<undef>\r\n",
      " test 分子分母がマイナスの時はプラスになること, expects (1 . 2) ==> ok\r\n",
      "#<undef>\r\n"
     ]
    }
   ],
   "source": [
    "(define (make-rat n d)\n",
    "  (let ((g (gcd (abs n) (abs d))))\n",
    "    (let (\n",
    "      (N (abs (/ n g)))\n",
    "      (D (abs (/ d g))))\n",
    "    (if (> (* n d) 0)\n",
    "      (cons N D)\n",
    "      (cons (* -1 N) D)))))\n",
    "\n",
    "(test \"既約分数になること\" (cons 1 2) (lambda () (make-rat 2 4)))\n",
    "\n",
    "(test \"マイナスになること\" (cons -1 2) (lambda () (make-rat -1 2)))\n",
    "\n",
    "(test \"分母がマイナスでも分子がマイナスになること\" (cons -1 2) (lambda () (make-rat 1 -2)))\n",
    "\n",
    "(test \"分子分母がマイナスの時はプラスになること\" (cons 1 2) (lambda () (make-rat -1 -2)))\n"
   ]
  },
  {
   "cell_type": "markdown",
   "metadata": {},
   "source": [
    "とりあえず使いそうな奴とかコピペしてみた  \n",
    "次回からは2章の初めから読んでいこうかなという所  \n",
    "問32まではやってるみたいなので、そこまではサクサク行こう"
   ]
  },
  {
   "cell_type": "code",
   "execution_count": null,
   "metadata": {
    "collapsed": true
   },
   "outputs": [],
   "source": []
  }
 ],
 "metadata": {
  "kernelspec": {
   "display_name": "Gauche",
   "language": "gauche",
   "name": "gauche"
  },
  "language_info": {
   "codemirror_mode": "scheme",
   "file_extension": ".scm",
   "mimetype": "text/plain",
   "name": "gauche"
  }
 },
 "nbformat": 4,
 "nbformat_minor": 1
}
