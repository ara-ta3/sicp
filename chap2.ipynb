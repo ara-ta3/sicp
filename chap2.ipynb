{
 "cells": [
  {
   "cell_type": "markdown",
   "metadata": {},
   "source": [
    "# 2章 データによる抽象の構築"
   ]
  },
  {
   "cell_type": "markdown",
   "metadata": {},
   "source": [
    "p45"
   ]
  },
  {
   "cell_type": "code",
   "execution_count": 1,
   "metadata": {
    "collapsed": false
   },
   "outputs": [
    {
     "name": "stdout",
     "output_type": "stream",
     "text": [
      " linear-combination\r\n",
      " linear-combination\r\n"
     ]
    }
   ],
   "source": [
    "(define (linear-combination a b x y)\n",
    "  (+ (* a x) (* b y)))\n",
    "\n",
    "(define (linear-combination a b x y)\n",
    "  (add (mul a x) (mul b y)))"
   ]
  },
  {
   "cell_type": "code",
   "execution_count": 2,
   "metadata": {
    "collapsed": false
   },
   "outputs": [
    {
     "name": "stdout",
     "output_type": "stream",
     "text": [
      " add\r\n",
      " mul\r\n",
      " add-rat\r\n",
      " sub-rat\r\n",
      " mul-rat\r\n",
      " div-rat\r\n",
      " make-rat\r\n",
      " numer\r\n",
      " denom\r\n",
      " print-rat\r\n",
      " one-half\r\n",
      " \r\n",
      "1/2#<undef>\r\n",
      " make-rat\r\n"
     ]
    }
   ],
   "source": [
    "(define (add +))\n",
    "(define (mul +))\n",
    "\n",
    "(define (add-rat x y)\n",
    "  (make-rat (+ (* (numer x) (denom y))\n",
    "               (* (numer y) (denom x)))\n",
    "            (* (denom x) (denom y))))\n",
    "\n",
    "(define (sub-rat x y)\n",
    "  (make-rat (- (* (numer x) (denom y))\n",
    "               (* (numer y) (denom x)))\n",
    "            (* (denom x) (denom y))))\n",
    "\n",
    "(define (mul-rat x y)\n",
    "  (make-rat (* (numer x) (numer y))\n",
    "            (* (denom x) (denom y))))\n",
    "\n",
    "(define (div-rat x y)\n",
    "  (make-rat (* (numer x) (denom y))\n",
    "            (* (denom x) (numer y))))\n",
    "\n",
    "(define (make-rat n d) (cons n d))\n",
    "\n",
    "(define (numer x) (car x))\n",
    "\n",
    "(define (denom x) (cdr x))\n",
    "\n",
    "(define (print-rat x)\n",
    "  (newline)\n",
    "  (display (numer x))\n",
    "  (display \"/\")\n",
    "  (display (denom x)))\n",
    "\n",
    "(define one-half (make-rat 1 2))\n",
    "\n",
    "(print-rat one-half)\n",
    "\n",
    "(define (make-rat n d)\n",
    "  (let ((g (gcd n d)))\n",
    "    (cons (/ n g) (/ d g))))"
   ]
  },
  {
   "cell_type": "markdown",
   "metadata": {},
   "source": [
    "### 問題2.1"
   ]
  },
  {
   "cell_type": "code",
   "execution_count": 5,
   "metadata": {
    "collapsed": false,
    "scrolled": true
   },
   "outputs": [
    {
     "name": "stdout",
     "output_type": "stream",
     "text": [
      " #<undef>\r\n",
      " make-rat\r\n",
      " test 既約分数になること, expects (1 . 2) ==> ok\r\n",
      "#<undef>\r\n",
      " test マイナスになること, expects (-1 . 2) ==> ok\r\n",
      "#<undef>\r\n",
      " test 分母がマイナスでも分子がマイナスになること, expects (-1 . 2) ==> ok\r\n",
      "#<undef>\r\n",
      " test 分子分母がマイナスの時はプラスになること, expects (1 . 2) ==> ok\r\n",
      "#<undef>\r\n"
     ]
    }
   ],
   "source": [
    "(use gauche.test)\n",
    "(define (make-rat n d)\n",
    "  (let ((g (gcd (abs n) (abs d))))\n",
    "    (let (\n",
    "      (N (abs (/ n g)))\n",
    "      (D (abs (/ d g))))\n",
    "    (if (> (* n d) 0)\n",
    "      (cons N D)\n",
    "      (cons (* -1 N) D)))))\n",
    "\n",
    "(test \"既約分数になること\" (cons 1 2) (lambda () (make-rat 2 4)))\n",
    "\n",
    "(test \"マイナスになること\" (cons -1 2) (lambda () (make-rat -1 2)))\n",
    "\n",
    "(test \"分母がマイナスでも分子がマイナスになること\" (cons -1 2) (lambda () (make-rat 1 -2)))\n",
    "\n",
    "(test \"分子分母がマイナスの時はプラスになること\" (cons 1 2) (lambda () (make-rat -1 -2)))\n"
   ]
  },
  {
   "cell_type": "markdown",
   "metadata": {},
   "source": [
    "### 問題 2.2"
   ]
  },
  {
   "cell_type": "code",
   "execution_count": 7,
   "metadata": {
    "collapsed": false
   },
   "outputs": [
    {
     "name": "stdout",
     "output_type": "stream",
     "text": [
      " make-segment\r\n",
      " start-segment\r\n",
      " end-segment\r\n",
      " make-point\r\n",
      " x-point\r\n",
      " y-point\r\n",
      " print-point\r\n",
      " midpoint-segment\r\n",
      " #<undef>\r\n",
      " test consになること, expects ((1 . 2) 2 . 4) ==> ok\r\n",
      "#<undef>\r\n",
      " test startが取得できること, expects (1 . 2) ==> ok\r\n",
      "#<undef>\r\n",
      " test endが取得できること, expects (2 . 4) ==> ok\r\n",
      "#<undef>\r\n",
      " test consになること, expects (1 . 2) ==> ok\r\n",
      "#<undef>\r\n",
      " test xが取得できること, expects 1 ==> ok\r\n",
      "#<undef>\r\n",
      " test yが取得できること, expects 2 ==> ok\r\n",
      "#<undef>\r\n",
      " test 中点がが取得できること, expects (2 . 4) ==> ok\r\n",
      "#<undef>\r\n"
     ]
    }
   ],
   "source": [
    "(define (make-segment x1 y1 x2 y2)\n",
    "  (cons (make-point x1 y1) (make-point x2 y2)))\n",
    "\n",
    "(define (start-segment seg)\n",
    "  (car seg))\n",
    "\n",
    "(define (end-segment seg)\n",
    "  (cdr seg))\n",
    "\n",
    "(define (make-point x y)\n",
    "  (cons x y))\n",
    "\n",
    "(define (x-point x)\n",
    "  (car x))\n",
    "\n",
    "(define (y-point x)\n",
    "  (cdr x))\n",
    "\n",
    "(define (print-point p)\n",
    "  (newline)\n",
    "  (display \"(\")\n",
    "  (display (x-point p))\n",
    "  (display \",\")\n",
    "  (display (y-point p))\n",
    "  (display \")\"))\n",
    "\n",
    "(define (midpoint-segment seg)\n",
    "  (define (average p1 p2 point-selector)\n",
    "    (/ (+ (point-selector p1) (point-selector p2)) 2))\n",
    "  (define (averageX p1 p2)\n",
    "    (average p1 p2 x-point))\n",
    "  (define (averageY p1 p2)\n",
    "    (average p1 p2 y-point))\n",
    "  (make-point\n",
    "    (averageX (start-segment seg) (end-segment seg))\n",
    "    (averageY (start-segment seg) (end-segment seg))))\n",
    "\n",
    "(use gauche.test)\n",
    "\n",
    "(test \"consになること\" (cons (cons 1 2) (cons 2 4)) (lambda () (make-segment 1 2 2 4)))\n",
    "\n",
    "(test \"startが取得できること\" (make-point 1 2) (lambda () (start-segment (make-segment 1 2 2 4))))\n",
    "\n",
    "(test \"endが取得できること\" (make-point 2 4) (lambda () (end-segment (make-segment 1 2 2 4))))\n",
    "\n",
    "(test \"consになること\" (cons 1 2) (lambda () (make-point 1 2)))\n",
    "\n",
    "(test \"xが取得できること\" 1 (lambda () (x-point (make-point 1 2))))\n",
    "\n",
    "(test \"yが取得できること\" 2 (lambda () (y-point (make-point 1 2))))\n",
    "\n",
    "(test \"中点がが取得できること\" (make-point 2 4) (lambda () (midpoint-segment (make-segment 1 2 3 6))))\n",
    "\n"
   ]
  },
  {
   "cell_type": "markdown",
   "metadata": {},
   "source": [
    "### 問題 2.3\n",
    "\n",
    "飛ばした"
   ]
  },
  {
   "cell_type": "markdown",
   "metadata": {},
   "source": [
    "p51"
   ]
  },
  {
   "cell_type": "code",
   "execution_count": 8,
   "metadata": {
    "collapsed": false,
    "scrolled": true
   },
   "outputs": [
    {
     "name": "stdout",
     "output_type": "stream",
     "text": [
      " cons\r\n",
      " car\r\n",
      " cdr\r\n"
     ]
    }
   ],
   "source": [
    "(define (cons x y)\n",
    "  (define (dispatch m)\n",
    "    (cond ((= m 0) x)\n",
    "          ((= m 1) y)\n",
    "          (else (error \"Argument not 0 or 1 --CONS\" m))))\n",
    "  dispatch)\n",
    "(define (car z) (z 0))\n",
    "(define (cdr z) (z 1))"
   ]
  },
  {
   "cell_type": "markdown",
   "metadata": {},
   "source": [
    "### 問題 2.4\n",
    "\n",
    "```scm\n",
    "(car (cons 3 5))\n",
    "\n",
    ";carを評価すると\n",
    "((cons 3 5) (lambda (p q) p))\n",
    "\n",
    ";consを評価すると\n",
    "((lambda (m) (m 3 5)) (lambda (p q) p))\n",
    "\n",
    ";前のlambdaを評価すると\n",
    "((lambda (p q) p) 3 5)\n",
    "3\n",
    "```"
   ]
  },
  {
   "cell_type": "code",
   "execution_count": 9,
   "metadata": {
    "collapsed": false,
    "scrolled": true
   },
   "outputs": [
    {
     "name": "stdout",
     "output_type": "stream",
     "text": [
      " cons\r\n",
      " car\r\n",
      " cdr\r\n",
      " #<undef>\r\n",
      " test (cons 3 5)に対してcarが3を返すこと, expects 3 ==> ok\r\n",
      "#<undef>\r\n",
      " test (cons 3 5)に対してcdrが5を返すこと, expects 5 ==> ok\r\n",
      "#<undef>\r\n"
     ]
    }
   ],
   "source": [
    "(define (cons x y)\n",
    "  (lambda (m) (m x y)))\n",
    "\n",
    "(define (car z)\n",
    "  (z (lambda (p q) p)))\n",
    "\n",
    "\n",
    "(define (cdr z)\n",
    "  (z (lambda (p q) q)))\n",
    "\n",
    "(use gauche.test)\n",
    "\n",
    "(test \"(cons 3 5)に対してcarが3を返すこと\" 3 (lambda () (car (cons 3 5))))\n",
    "\n",
    "(test \"(cons 3 5)に対してcdrが5を返すこと\" 5 (lambda () (cdr (cons 3 5))))"
   ]
  },
  {
   "cell_type": "markdown",
   "metadata": {},
   "source": [
    "### 問題 2.5"
   ]
  },
  {
   "cell_type": "code",
   "execution_count": 10,
   "metadata": {
    "collapsed": false
   },
   "outputs": [
    {
     "name": "stdout",
     "output_type": "stream",
     "text": [
      " cons\r\n",
      " car\r\n",
      " cdr\r\n",
      " divide-count\r\n",
      " divide-count-iter\r\n",
      " #<undef>\r\n",
      " test a,b = 1,1, expects 6 ==> ok\r\n",
      "#<undef>\r\n",
      " test a,b = 2,3, expects 108 ==> ok\r\n",
      "#<undef>\r\n",
      " test a,b = 2,3 car, expects 2 ==> ok\r\n",
      "#<undef>\r\n",
      " test a,b = 2,3 cdr, expects 3 ==> ok\r\n",
      "#<undef>\r\n"
     ]
    }
   ],
   "source": [
    "(define (cons a b)\n",
    "  (* (expt 2 a) (expt 3 b)))\n",
    "\n",
    "(define (car c)\n",
    "  (divide-count c 2))\n",
    "\n",
    "(define (cdr c)\n",
    "  (divide-count c 3))\n",
    "\n",
    "(define (divide-count x divider)\n",
    "  (divide-count-iter x divider 0))\n",
    "\n",
    "(define (divide-count-iter x divider n)\n",
    "  (if (= (remainder x divider) 0)\n",
    "    (divide-count-iter (/ x divider) divider (+ n 1))\n",
    "    n))\n",
    "\n",
    "(use gauche.test)\n",
    "\n",
    "(test \"a,b = 1,1\" 6 (lambda () (cons 1 1)))\n",
    "\n",
    "(test \"a,b = 2,3\" 108 (lambda () (cons 2 3)))\n",
    "\n",
    "(test \"a,b = 2,3 car\" 2 (lambda () (car (cons 2 3))))\n",
    "\n",
    "(test \"a,b = 2,3 cdr\" 3 (lambda () (cdr (cons 2 3))))\n"
   ]
  },
  {
   "cell_type": "markdown",
   "metadata": {},
   "source": [
    "### 問題 2.6\n",
    "\n",
    "- Church数\n",
    "\n",
    "メモ\n",
    "\n",
    "```scm\n",
    "; こっちだとおもったけど、括弧の数的に違うのかなぁと思ってる\n",
    "(define two (lambda (f) (lambda (x) (f f x))))\n",
    "\n",
    "(lambda (f) (lambda (x) (x)))\n",
    "\n",
    "(define (add-1 n)\n",
    "  (lambda (f) (lambda (x) (f ((n f) x)))))\n",
    "\n",
    ";足し算\n",
    "(define (+ a b) (lambda (f) (lambda (x) ((a f) ((b f) x)))))\n",
    "\n",
    "; zeroの表現に必然性はない\n",
    "; xのことを0とかんがえると良さそう\n",
    "; fを作用させた回数を数として名前をつけてるっぽい\n",
    "\n",
    "(print (add-1 zero))\n",
    "(print (add-1 one))\n",
    "\n",
    "(add-1 zero)\n",
    "(lambda (f) (lambda (x) (f ((n f) x))) zero)\n",
    "(lambda (f) (lambda (x) (f ((n f) x))) (lambda (f) (lambda (x) x)))\n",
    "(lambda (x) (lambda (f) (lambda (x) x)) ((n (lambda (f) (lambda (x) x))) x))\n",
    "\n",
    "(lambda (f) (lambda (((n (lambda (f) (lambda (x) x))) x) ((n (lambda (f) (lambda (x) x))) x))) ((n (lambda (f) (lambda (x) x))) x))\n",
    ";ちょっと無理\n",
    "\n",
    "(define (lm n)\n",
    "  (lambda (f) n))\n",
    "\n",
    "(print ((lm 5) 1))\n",
    "\n",
    ";jupyter gaucheでコメントアウトが使えないのでこっちに動かないテストのメモ\n",
    "(use gauche.test)\n",
    "\n",
    "(test \"add-1 zero == one\" one (lambda () (add-1 zero)))\n",
    "```\n"
   ]
  },
  {
   "cell_type": "code",
   "execution_count": 12,
   "metadata": {
    "collapsed": false
   },
   "outputs": [
    {
     "name": "stdout",
     "output_type": "stream",
     "text": [
      " zero\r\n",
      " one\r\n",
      " two\r\n"
     ]
    }
   ],
   "source": [
    "(define zero (lambda (f) (lambda (x) x)))\n",
    "\n",
    "(define one (lambda (f) (lambda (x) (f x))))\n",
    "\n",
    "(define two (lambda (f) (lambda (x) (f (f x)))))"
   ]
  },
  {
   "cell_type": "markdown",
   "metadata": {},
   "source": [
    "p53"
   ]
  },
  {
   "cell_type": "code",
   "execution_count": 13,
   "metadata": {
    "collapsed": false
   },
   "outputs": [
    {
     "name": "stdout",
     "output_type": "stream",
     "text": [
      " add-interval\r\n",
      " mul-interval\r\n",
      " div-interval\r\n"
     ]
    }
   ],
   "source": [
    "(define (add-interval x y)\n",
    "  (make-interval (+ (lower-bound x) (lower-bound y))\n",
    "                 (+ (upper-bound x) (upper-bound y))))\n",
    "\n",
    "(define (mul-interval x y)\n",
    "  (let ((p1 (* (lower-bound x) (lower-bound y)))\n",
    "        (p2 (* (lower-bound x) (lower-bound y)))\n",
    "        (p3 (* (upper-bound x) (upper-bound y)))\n",
    "        (p4 (* (upper-bound x) (upper-bound y))))\n",
    "    (make-interval (min p1 p2 p3 p4)\n",
    "                   (max p1 p2 p3 p4))))\n",
    "\n",
    "(define (div-interval x y)\n",
    "  (mul-interval x (make-interval (/ 1.0 (upper-bound y))\n",
    "                                 (/ 1.0 (lower-bound y)))))\n"
   ]
  },
  {
   "cell_type": "code",
   "execution_count": 6,
   "metadata": {
    "collapsed": false
   },
   "outputs": [
    {
     "name": "stdout",
     "output_type": "stream",
     "text": [
      " make-center-width\r\n",
      " center\r\n",
      " width\r\n",
      " par1\r\n",
      " par2\r\n"
     ]
    }
   ],
   "source": [
    "(define (make-center-width  c w)\n",
    "  (make-interval (- c w) (+ c w)))\n",
    "\n",
    "(define (center i)\n",
    "  (/ (+ (lower-bound i) (upper-bound i)) 2))\n",
    "\n",
    "(define (width i)\n",
    "  (/ (- (upper-bound i) (lower-bound i)) 2))\n",
    "\n",
    "(define (par1 r1 r2)\n",
    "  (div-interval (mul-interval r1 r2)\n",
    "                (add-interval r1 r2)))\n",
    "\n",
    "(define (par2 r1 r2)\n",
    "  (let ((one (make-interval 1 1)))\n",
    "    (div-interval one\n",
    "                  (add-interval (div-interval one r1)\n",
    "                                (div-interval one r2)))))\n",
    "\n"
   ]
  },
  {
   "cell_type": "markdown",
   "metadata": {},
   "source": [
    "### 問題 2.7"
   ]
  },
  {
   "cell_type": "code",
   "execution_count": 14,
   "metadata": {
    "collapsed": false
   },
   "outputs": [
    {
     "name": "stdout",
     "output_type": "stream",
     "text": [
      " make-interval\r\n",
      " upper-bound\r\n",
      " lower-bound\r\n",
      " #<undef>\r\n",
      " test 区間, expects 18 ==> ok\r\n",
      "#<undef>\r\n",
      " test 上限, expects 2 ==> ok\r\n",
      "#<undef>\r\n",
      " test 下限, expects 1 ==> ok\r\n",
      "#<undef>\r\n",
      " test 足し算, expects 324 ==> ok\r\n",
      "#<undef>\r\n",
      " test かけ算, expects 162 ==> ok\r\n",
      "#<undef>\r\n"
     ]
    }
   ],
   "source": [
    "(define (make-interval a b) (cons a b))\n",
    "\n",
    "(define (upper-bound x)\n",
    "  (cdr x))\n",
    "\n",
    "(define (lower-bound x)\n",
    "  (car x))\n",
    "\n",
    "(use gauche.test)\n",
    "\n",
    "(test \"区間\" (cons 1 2) (lambda () (make-interval 1 2)))\n",
    "\n",
    "(test \"上限\" 2 (lambda () (upper-bound (make-interval 1 2))))\n",
    "\n",
    "(test \"下限\" 1 (lambda () (lower-bound (make-interval 1 2))))\n",
    "\n",
    "(test \"足し算\" (cons 2 4) (lambda () (add-interval (make-interval 1 2) (make-interval 1 2))))\n",
    "\n",
    "(test \"かけ算\" (cons 1 4) (lambda () (mul-interval (make-interval 1 2) (make-interval 1 2))))\n",
    "\n"
   ]
  },
  {
   "cell_type": "markdown",
   "metadata": {},
   "source": [
    "### 問題 2.8"
   ]
  },
  {
   "cell_type": "code",
   "execution_count": 15,
   "metadata": {
    "collapsed": false,
    "scrolled": true
   },
   "outputs": [
    {
     "name": "stdout",
     "output_type": "stream",
     "text": [
      " sub-interval\r\n"
     ]
    }
   ],
   "source": [
    "(define (sub-interval x y)\n",
    "  (make-interval (- (lower-bound x) (lower-bound y))\n",
    "                 (- (upper-bound x) (upper-bound y))))"
   ]
  },
  {
   "cell_type": "markdown",
   "metadata": {},
   "source": [
    "### 問題 2.9\n",
    "\n",
    "```scm\n",
    "; 1 5\n",
    "; -> w = 2\n",
    "; 4 10\n",
    "; -> w = 3\n",
    "\n",
    "; 区間X(a,b) Y(c,d)があるとする\n",
    "; Xの幅は (b-a)/2 (=x\n",
    "; Yの幅は (d-c)/2 (=y\n",
    "; またX + Y = Zとしたとき\n",
    "; 区間Zは(a+c, b+d)で表される\n",
    "; この時Zの幅は( (b+d) - (a+c) ) / 2\n",
    "; = (b-a) / 2 + (d-c)/2 = x + y\n",
    "; よって、幅だけの関数で表される\n",
    "\n",
    "; 積はマイナスを含めたらできんじゃね\n",
    "```"
   ]
  },
  {
   "cell_type": "markdown",
   "metadata": {},
   "source": [
    "### 問題 2.10"
   ]
  },
  {
   "cell_type": "code",
   "execution_count": 16,
   "metadata": {
    "collapsed": false
   },
   "outputs": [
    {
     "name": "stdout",
     "output_type": "stream",
     "text": [
      " #<undef>\r\n",
      " 1\r\n",
      "#<undef>\r\n",
      " div-interval\r\n",
      " *** ERROR: unhandled exception: \"0 division\"\r\n",
      "Stack Trace:\r\n",
      "_______________________________________\r\n",
      "  0  (div-interval (make-interval 1 2) (make-interval 0 2))\r\n",
      "        At line 95 of \"(standard input)\"\r\n",
      "  1  (eval expr env)\r\n",
      "        At line 179 of \"/usr/local/Cellar/gauche/0.9.4/share/gauche-0.9/0.9.4/lib/gauche/interactive.scm\"\r\n"
     ]
    }
   ],
   "source": [
    "(use gauche.test)\n",
    "\n",
    "(print (div-interval \n",
    "  (make-interval 1 2)\n",
    "  (make-interval 0 2)))\n",
    "\n",
    "(define (div-interval x y)\n",
    "  (if (or (= (upper-bound y) 0) (= (lower-bound y) 0))\n",
    "    (raise \"0 division\")\n",
    "    (mul-interval x (make-interval (/ 1.0 (upper-bound y))\n",
    "                                   (/ 1.0 (lower-bound y))))))\n",
    "\n",
    "(print (div-interval \n",
    "  (make-interval 1 2)\n",
    "  (make-interval 0 2)))\n",
    "\n",
    "\n"
   ]
  },
  {
   "cell_type": "markdown",
   "metadata": {},
   "source": [
    "### 問題 2.11 ~ 2.16\n",
    "\n",
    "飛ばした"
   ]
  },
  {
   "cell_type": "markdown",
   "metadata": {},
   "source": [
    "p57"
   ]
  },
  {
   "cell_type": "code",
   "execution_count": 17,
   "metadata": {
    "collapsed": false
   },
   "outputs": [
    {
     "name": "stdout",
     "output_type": "stream",
     "text": [
      " list-ref\r\n",
      " squares\r\n",
      " length\r\n",
      " odds\r\n",
      " length\r\n",
      " append\r\n"
     ]
    }
   ],
   "source": [
    "(define (list-ref items n)\n",
    "       (if (= n 0)\n",
    "         (car items)\n",
    "         (list-ref (cdr items) (- n 1))))\n",
    "\n",
    "(define squares (list 1 4 9 16 25))\n",
    "\n",
    "(define (length items)\n",
    "  (if (null? items)\n",
    "    0\n",
    "    (+ 1 (length (cdr items)))))\n",
    "\n",
    "(define (odds 1 3 5 7))\n",
    "\n",
    "(define (length items)\n",
    "  (define (length-iter a count)\n",
    "    (if (null? a)\n",
    "      count\n",
    "      (length-iter (cdr a) (+ 1 count))))\n",
    "  (length-iter items 0))\n",
    "\n",
    "(define (append l1 l2)\n",
    "  (if (null? l1)\n",
    "    l2\n",
    "    (cons (car list1) (append (cdr l1) l2))))\n"
   ]
  },
  {
   "cell_type": "markdown",
   "metadata": {},
   "source": [
    "### 問題 2.17"
   ]
  },
  {
   "cell_type": "code",
   "execution_count": 2,
   "metadata": {
    "collapsed": false
   },
   "outputs": [
    {
     "name": "stdout",
     "output_type": "stream",
     "text": [
      " last-pair\r\n",
      " #<undef>\r\n",
      " test 最後の要素が返ること, expects 34 ==> ok\r\n",
      "#<undef>\r\n"
     ]
    }
   ],
   "source": [
    "(define (last-pair l)\n",
    "  (if (null? (cdr l))\n",
    "    (car l)\n",
    "    (last-pair (cdr l))))\n",
    "\n",
    "(use gauche.test)\n",
    "\n",
    "(test \"最後の要素が返ること\" (last-pair (list 12 72 149 34)) (lambda () 34))"
   ]
  },
  {
   "cell_type": "markdown",
   "metadata": {},
   "source": [
    "### 問題 2.18"
   ]
  },
  {
   "cell_type": "code",
   "execution_count": 3,
   "metadata": {
    "collapsed": false
   },
   "outputs": [
    {
     "name": "stdout",
     "output_type": "stream",
     "text": [
      " my-reverse\r\n",
      " #<undef>\r\n",
      " test 逆順リストが返ること, expects (25 16 9 4 1) ==> ok\r\n",
      "#<undef>\r\n"
     ]
    }
   ],
   "source": [
    "(define (my-reverse l)\n",
    "  (define (reverse-iter l ret)\n",
    "    (if (null? l)\n",
    "      ret\n",
    "      (reverse-iter (cdr l) (cons (car l) ret))))\n",
    "  (reverse-iter l '()))\n",
    "\n",
    "(use gauche.test)\n",
    "\n",
    "(test \"逆順リストが返ること\" (my-reverse (list 1 4 9 16 25)) (lambda () (list 25 16 9 4 1)))\n",
    "\n"
   ]
  },
  {
   "cell_type": "markdown",
   "metadata": {},
   "source": [
    "### 問題 2.19"
   ]
  },
  {
   "cell_type": "code",
   "execution_count": 4,
   "metadata": {
    "collapsed": false
   },
   "outputs": [
    {
     "name": "stdout",
     "output_type": "stream",
     "text": [
      " us-coins\r\n",
      " uk-coins\r\n",
      " cc\r\n",
      " no-more?\r\n",
      " except-first-denomination\r\n",
      " first-denomination\r\n",
      " #<undef>\r\n",
      " test 292が返ること, expects 292 ==> ok\r\n",
      "#<undef>\r\n"
     ]
    }
   ],
   "source": [
    "(define us-coins (list 50 25 10 5 1))\n",
    "\n",
    "(define uk-coins (list 100 50 20 10 5 2 1 0.5))\n",
    "\n",
    "\n",
    "(define (cc amount coin-vals)\n",
    "    (cond ((= amount 0) 1)\n",
    "          ((or (< amount 0) (no-more? coin-vals)) 0)\n",
    "          (else \n",
    "            (+ (cc amount\n",
    "                   (except-first-denomination coin-vals))\n",
    "               (cc (- amount\n",
    "                        (first-denomination coin-vals))\n",
    "                   coin-vals)))))\n",
    "\n",
    "(define (no-more? items)\n",
    "  (= (length items) 0))\n",
    "\n",
    "(define (except-first-denomination items)\n",
    "  (cdr items))\n",
    "\n",
    "(define (first-denomination items)\n",
    "  (car items))\n",
    "\n",
    "(use gauche.test)\n",
    "\n",
    "(test \"292が返ること\" (cc 100 us-coins) (lambda () 292))\n"
   ]
  },
  {
   "cell_type": "markdown",
   "metadata": {},
   "source": [
    "### 問題 2.20"
   ]
  },
  {
   "cell_type": "code",
   "execution_count": 5,
   "metadata": {
    "collapsed": false
   },
   "outputs": [
    {
     "name": "stdout",
     "output_type": "stream",
     "text": [
      " same-parity\r\n",
      " #<undef>\r\n",
      " test 奇数列が返ること, expects (1 3 5 7) ==> ok\r\n",
      "#<undef>\r\n",
      " test 偶数列が返ること, expects (2 4 6) ==> ok\r\n",
      "#<undef>\r\n",
      " test 先頭のみが返ること, expects (1) ==> ok\r\n",
      "#<undef>\r\n",
      " test 2要素で返ること, expects (1 3) ==> ok\r\n",
      "#<undef>\r\n"
     ]
    }
   ],
   "source": [
    "(define (same-parity head . tail)\n",
    "  (define (iter l ret)\n",
    "    (cond ((null? l) ret)\n",
    "          ((= (remainder head 2) (remainder (car l) 2))\n",
    "           (iter (cdr l) (cons (car l) ret)))\n",
    "          (else (iter (cdr l) ret))))\n",
    "  (reverse (iter tail (list head))))\n",
    "\n",
    "(use gauche.test)\n",
    "\n",
    "(test \"奇数列が返ること\"\n",
    "      (list 1 3 5 7)\n",
    "      (lambda () (same-parity 1 2 3 4 5 6 7)))\n",
    "\n",
    "(test \"偶数列が返ること\"\n",
    "      (list 2 4 6)\n",
    "      (lambda () (same-parity 2 3 4 5 6 7)))\n",
    "\n",
    "(test \"先頭のみが返ること\"\n",
    "      (list 1)\n",
    "      (lambda () (same-parity 1)))\n",
    "\n",
    "(test \"2要素で返ること\"\n",
    "      (list 1 3)\n",
    "      (lambda () (same-parity 1 2 3)))\n",
    "\n",
    "\n"
   ]
  },
  {
   "cell_type": "markdown",
   "metadata": {},
   "source": [
    "p59"
   ]
  },
  {
   "cell_type": "code",
   "execution_count": 6,
   "metadata": {
    "collapsed": false
   },
   "outputs": [
    {
     "name": "stdout",
     "output_type": "stream",
     "text": [
      " scale-list\r\n",
      " map\r\n",
      " scale-list\r\n"
     ]
    }
   ],
   "source": [
    "(define (scale-list items factor)\n",
    "  (if (null? items)\n",
    "    '()\n",
    "    (cons (* (car items) factor)\n",
    "          (scale-list (cdr items) factor))))\n",
    "\n",
    "(define (map proc items)\n",
    "  (if (null? items)\n",
    "    '()\n",
    "    (cons (proc (car items))\n",
    "          (map proc (cdr items)))))\n",
    "\n",
    "(define (scale-list items factor)\n",
    "  (map (lambda (x) (* x factor))\n",
    "       items))\n"
   ]
  },
  {
   "cell_type": "markdown",
   "metadata": {},
   "source": [
    "### 問題 2.21"
   ]
  },
  {
   "cell_type": "code",
   "execution_count": 7,
   "metadata": {
    "collapsed": false
   },
   "outputs": [
    {
     "name": "stdout",
     "output_type": "stream",
     "text": [
      " square-list\r\n",
      " square-list\r\n",
      " #<undef>\r\n",
      " test 2乗された列が返ること, expects (1 4 9 16) ==> ok\r\n",
      "#<undef>\r\n"
     ]
    }
   ],
   "source": [
    "(define (square-list items)\n",
    "  (if (null? items)\n",
    "    '()\n",
    "    (cons (* (car items) (car items)) (square-list (cdr items)))))\n",
    "(define (square-list items)\n",
    "  (map (lambda (x) (* x x)) items))\n",
    "\n",
    "(use gauche.test)\n",
    "\n",
    "(test \"2乗された列が返ること\"\n",
    "      (list 1 4 9 16)\n",
    "      (lambda () (square-list (list 1 2 3 4))))\n"
   ]
  },
  {
   "cell_type": "markdown",
   "metadata": {},
   "source": [
    "### 問題 2.22"
   ]
  },
  {
   "cell_type": "code",
   "execution_count": 8,
   "metadata": {
    "collapsed": false
   },
   "outputs": [
    {
     "name": "stdout",
     "output_type": "stream",
     "text": [
      " square-list\r\n",
      " square\r\n",
      " (16 9 4 1)\r\n",
      "#<undef>\r\n",
      " square-list\r\n",
      " ((((() . 1) . 4) . 9) . 16)\r\n",
      "#<undef>\r\n"
     ]
    }
   ],
   "source": [
    "(define (square-list items)\n",
    "  (define (iter things answer)\n",
    "    (if (null? things)\n",
    "      answer\n",
    "      (iter (cdr things)\n",
    "            (cons (square (car things))\n",
    "                  answer))))\n",
    "  (iter items '()))\n",
    "\n",
    "(define (square n) (* n n))\n",
    "\n",
    "(print (square-list (list 1 2 3 4)))\n",
    "\n",
    "(define (square-list items)\n",
    "  (define (iter things answer)\n",
    "    (if (null? things)\n",
    "      answer\n",
    "      (iter (cdr things)\n",
    "            (cons answer (square (car things))))))\n",
    "  (iter items '()))\n",
    "\n",
    "\n",
    "(print (square-list (list 1 2 3 4)))\n"
   ]
  },
  {
   "cell_type": "markdown",
   "metadata": {},
   "source": [
    "### 問題 2.23"
   ]
  },
  {
   "cell_type": "code",
   "execution_count": 9,
   "metadata": {
    "collapsed": false
   },
   "outputs": [
    {
     "name": "stdout",
     "output_type": "stream",
     "text": [
      " \r\n",
      "57\r\n",
      "321\r\n",
      "88#<undef>\r\n",
      " for-each\r\n",
      " \r\n",
      "57\r\n",
      "321\r\n",
      "88#t\r\n"
     ]
    }
   ],
   "source": [
    "(for-each (lambda (x) (newline) (display x))\n",
    "          (list 57 321 88))\n",
    "\n",
    "(define (for-each proc items)\n",
    "  (cond ((null? items) #t)\n",
    "        (else (proc (car items))\n",
    "              (for-each proc (cdr items)))))\n",
    "(for-each (lambda (x) (newline) (display x))\n",
    "          (list 57 321 88))\n",
    "\n",
    "\n"
   ]
  },
  {
   "cell_type": "markdown",
   "metadata": {},
   "source": [
    "p61 ~ 62"
   ]
  },
  {
   "cell_type": "code",
   "execution_count": 10,
   "metadata": {
    "collapsed": false
   },
   "outputs": [
    {
     "name": "stdout",
     "output_type": "stream",
     "text": [
      " x\r\n",
      " count-leaves\r\n"
     ]
    }
   ],
   "source": [
    "(define x (cons (list 1 2) (list 3 4)))\n",
    "\n",
    "(define (count-leaves x)\n",
    "  (cond ((null? x) 0)\n",
    "        ((not (pair? x)) 1)\n",
    "        (else (+ (count-leaves (car x))\n",
    "                 (count-leaves (cdr x))))))\n",
    "\n"
   ]
  },
  {
   "cell_type": "markdown",
   "metadata": {},
   "source": [
    "### 問題 2.24\n",
    "\n",
    "```scm\n",
    ";x\n",
    ";|\\\n",
    ";1 y\n",
    ";  |\\\n",
    ";  2 z\n",
    ";    |\\\n",
    ";    3 4\n",
    "```"
   ]
  },
  {
   "cell_type": "code",
   "execution_count": 11,
   "metadata": {
    "collapsed": false
   },
   "outputs": [
    {
     "name": "stdout",
     "output_type": "stream",
     "text": [
      " x\r\n",
      " y\r\n",
      " z\r\n"
     ]
    }
   ],
   "source": [
    "(define x (list 1 (list 2 (list 3 4))))\n",
    "(define y (list 2 (list 3 4)))\n",
    "(define z (list 3 4))\n",
    "\n",
    "\n"
   ]
  },
  {
   "cell_type": "markdown",
   "metadata": {},
   "source": [
    "### 問題 2.25"
   ]
  },
  {
   "cell_type": "code",
   "execution_count": 12,
   "metadata": {
    "collapsed": false
   },
   "outputs": [
    {
     "name": "stdout",
     "output_type": "stream",
     "text": [
      " c1\r\n",
      " c2\r\n",
      " c3\r\n",
      " #<undef>\r\n",
      " test 7 (1 3 (5 7) 9), expects 7 ==> ok\r\n",
      "#<undef>\r\n",
      " test 7 ((7)), expects 7 ==> ok\r\n",
      "#<undef>\r\n",
      " test 7 (1 (2 (3 (4 (5 (6 7)))))), expects 7 ==> ok\r\n",
      "#<undef>\r\n"
     ]
    }
   ],
   "source": [
    "(define (c1 x)\n",
    "  (car (cdr (car (cdr (cdr x))))))\n",
    "\n",
    "(define (c2 x)\n",
    "  (car (car x)))\n",
    "\n",
    "(define (c3 x)\n",
    "  (define (tail x)\n",
    "    (car (cdr x)))\n",
    "  (tail (tail (tail (tail (tail (tail x)))))))\n",
    "\n",
    "(use gauche.test)\n",
    "\n",
    "(test \"7 (1 3 (5 7) 9)\"\n",
    "      7\n",
    "      (lambda () (c1 (list 1 3 (list 5 7) 9))))\n",
    "\n",
    "(test \"7 ((7))\"\n",
    "      7\n",
    "      (lambda () (c2 (list (list 7)))))\n",
    "\n",
    "(test \"7 (1 (2 (3 (4 (5 (6 7))))))\"\n",
    "      7\n",
    "      (lambda () (c3 (list 1 (list 2 (list 3 (list 4 (list 5 (list 6 7)))))))))\n",
    "\n",
    "\n"
   ]
  },
  {
   "cell_type": "markdown",
   "metadata": {},
   "source": [
    "### 問題 2.26"
   ]
  },
  {
   "cell_type": "code",
   "execution_count": 13,
   "metadata": {
    "collapsed": false
   },
   "outputs": [
    {
     "name": "stdout",
     "output_type": "stream",
     "text": [
      " x\r\n",
      " y\r\n",
      " (1 2 3 4 5 6)\r\n",
      "#<undef>\r\n",
      " ((1 2 3) 4 5 6)\r\n",
      "#<undef>\r\n",
      " ((1 2 3) (4 5 6))\r\n",
      "#<undef>\r\n"
     ]
    }
   ],
   "source": [
    "(define x (list 1 2 3))\n",
    "\n",
    "(define y (list 4 5 6))\n",
    "\n",
    "(print (append x y))\n",
    "\n",
    "(print (cons x y))\n",
    "\n",
    "(print (list x y))\n"
   ]
  },
  {
   "cell_type": "markdown",
   "metadata": {},
   "source": [
    "### 問題 2.27 ~ 29\n",
    "\n",
    "飛ばした  \n",
    "p64"
   ]
  },
  {
   "cell_type": "code",
   "execution_count": 14,
   "metadata": {
    "collapsed": false
   },
   "outputs": [
    {
     "name": "stdout",
     "output_type": "stream",
     "text": [
      " scale-tree\r\n"
     ]
    }
   ],
   "source": [
    "(define (scale-tree tree factor)\n",
    "  (cond ((null? tree) '())\n",
    "        ((not (pair? tree)) (* tree factor))\n",
    "        (else (cons (scale-tree (car tree) factor)\n",
    "                    (scale-tree (cdr tree) factor)))))"
   ]
  },
  {
   "cell_type": "markdown",
   "metadata": {},
   "source": [
    "### 問題 2.30"
   ]
  },
  {
   "cell_type": "code",
   "execution_count": 15,
   "metadata": {
    "collapsed": false
   },
   "outputs": [
    {
     "name": "stdout",
     "output_type": "stream",
     "text": [
      " square-tree\r\n",
      " #<undef>\r\n",
      " test square-tree, expects (1 (4 (9 16) 25) (36 49)) ==> ok\r\n",
      "#<undef>\r\n"
     ]
    }
   ],
   "source": [
    "(define (square-tree tree)\n",
    "  (if (null? tree)\n",
    "    '()\n",
    "    (map (lambda (x) (if (pair? x) (square-tree x) (* x x))) tree)))\n",
    "\n",
    "(use gauche.test)\n",
    "\n",
    "(test \"square-tree\" (list 1 (list 4 (list 9 16) 25) (list 36 49)) (lambda () (square-tree (list 1 (list 2 (list 3 4) 5) (list 6 7)))))\n",
    "\n"
   ]
  },
  {
   "cell_type": "markdown",
   "metadata": {},
   "source": [
    "### 問題 2.31"
   ]
  },
  {
   "cell_type": "code",
   "execution_count": 16,
   "metadata": {
    "collapsed": false
   },
   "outputs": [
    {
     "name": "stdout",
     "output_type": "stream",
     "text": [
      " tree-map\r\n",
      " square\r\n",
      " square-tree\r\n",
      " scale-tree\r\n",
      " #<undef>\r\n",
      " test square-tree, expects (1 (4 (9 16) 25) (36 49)) ==> ok\r\n",
      "#<undef>\r\n",
      " test scale-tree, expects (10 (20 (30 40) 50) (60 70)) ==> ok\r\n",
      "#<undef>\r\n"
     ]
    }
   ],
   "source": [
    "(define (tree-map func tree)\n",
    "  (define (loop l)\n",
    "    (map (lambda (x) (if (pair? x) (loop x) (func x))) l))\n",
    "  (loop tree))\n",
    "\n",
    "(define (square x) (* x x))\n",
    "\n",
    "(define (square-tree tree) (tree-map square tree))\n",
    "\n",
    "(define (scale-tree tree factor) (tree-map (lambda (x) (* x factor)) tree))\n",
    "\n",
    "(use gauche.test)\n",
    "\n",
    "(test \"square-tree\" (list 1 (list 4 (list 9 16) 25) (list 36 49)) (lambda () (square-tree (list 1 (list 2 (list 3 4) 5) (list 6 7)))))\n",
    "\n",
    "(test \"scale-tree\" (list 10 (list 20 (list 30 40) 50) (list 60 70)) (lambda () (scale-tree (list 1 (list 2 (list 3 4) 5) (list 6 7)) 10)))\n"
   ]
  },
  {
   "cell_type": "markdown",
   "metadata": {},
   "source": [
    "### 問題 2.32\n",
    "\n",
    "```scm\n",
    ";1 2 3\n",
    ";2 3\n",
    ";3\n",
    ";rest <- (())\n",
    ";s <- (3)\n",
    ";(append '() (map hoge '())\n",
    ";rest <- (() 3)\n",
    ";s <- (2 3)\n",
    ";(append ('() 3) (map hoge '() 3)\n",
    ";rest <- \n",
    "```"
   ]
  },
  {
   "cell_type": "code",
   "execution_count": 17,
   "metadata": {
    "collapsed": false
   },
   "outputs": [
    {
     "name": "stdout",
     "output_type": "stream",
     "text": [
      " subsets\r\n",
      " #<undef>\r\n",
      " test subsets of 1 2 3, expects (() (3) (2) (2 3) (1) (1 3) (1 2) (1 2 3)) ==> ok\r\n",
      "#<undef>\r\n"
     ]
    }
   ],
   "source": [
    "(define (subsets s)\n",
    "  (if (null? s)\n",
    "    (list '())\n",
    "    (let ((rest (subsets (cdr s))))\n",
    "      (append rest (map (lambda (x) (cons (car s) x)) rest)))))\n",
    "\n",
    "(use gauche.test)\n",
    "\n",
    "(test \"subsets of 1 2 3\" (list '() (list 3) (list 2) (list 2 3) (list 1) (list 1 3) (list 1 2) (list 1 2 3)) (lambda () (subsets (list 1 2 3))))\n",
    "\n",
    "\n"
   ]
  },
  {
   "cell_type": "markdown",
   "metadata": {},
   "source": [
    "## 2.2.3 公認インターフェースとしての並び\n",
    "\n",
    "p65  \n",
    "この辺から読み直すと良さそう"
   ]
  },
  {
   "cell_type": "code",
   "execution_count": 18,
   "metadata": {
    "collapsed": false
   },
   "outputs": [
    {
     "name": "stdout",
     "output_type": "stream",
     "text": [
      " sum-odd-squares\r\n",
      " even-fibs\r\n"
     ]
    }
   ],
   "source": [
    "(define (sum-odd-squares tree)\n",
    "  (cond ((null? tree) 0)\n",
    "        ((not (pair? tree))\n",
    "         (if (odd? tree) (square tree) 0))\n",
    "        (else (+ (sum-odd-squares (car tree))\n",
    "                 (sum-odd-squares (cdr tree))))))\n",
    "\n",
    "(define (even-fibs n)\n",
    "  (define (next k)\n",
    "    (if (> k n)\n",
    "      '()\n",
    "      (let ((f (fib k)))\n",
    "        (if (even? f)\n",
    "          (cons f (next (+ k 1)))\n",
    "          (next (+ k 1))))))\n",
    "  (next 0))\n"
   ]
  },
  {
   "cell_type": "code",
   "execution_count": null,
   "metadata": {
    "collapsed": true
   },
   "outputs": [],
   "source": []
  }
 ],
 "metadata": {
  "kernelspec": {
   "display_name": "Gauche",
   "language": "gauche",
   "name": "gauche"
  },
  "language_info": {
   "codemirror_mode": "scheme",
   "file_extension": ".scm",
   "mimetype": "text/plain",
   "name": "gauche"
  }
 },
 "nbformat": 4,
 "nbformat_minor": 1
}
